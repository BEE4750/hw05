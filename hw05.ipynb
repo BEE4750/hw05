{
  "cells": [
    {
      "cell_type": "markdown",
      "metadata": {},
      "source": [
        "# BEE 4750 Homework 5: Solid Waste Disposal\n",
        "\n",
        "**Name**:\n",
        "\n",
        "**ID**:\n",
        "\n",
        "> **Due Date**\n",
        ">\n",
        "> Friday, 10/27/23, 9:00pm\n",
        "\n",
        "## Overview"
      ],
      "id": "44aa1070-a415-4d20-9b9a-158f73b576e9"
    },
    {
      "cell_type": "markdown",
      "metadata": {},
      "source": [
        "### Instructions\n",
        "\n",
        "-   In Problem 1, you will formulate, solve, and analyze a standard\n",
        "    generating capacity expansion problem.\n",
        "-   In Problem 2, you will add a CO<sub>2</sub> constraint to the\n",
        "    capacity expansion problem and identify changes in the resulting\n",
        "    solution."
      ],
      "id": "4e31d209-3d09-4f75-a636-5c3c1e5ad3f3"
    },
    {
      "cell_type": "markdown",
      "metadata": {},
      "source": [
        "### Load Environment\n",
        "\n",
        "The following code loads the environment and makes sure all needed\n",
        "packages are installed. This should be at the start of most Julia\n",
        "scripts.\n",
        "\n",
        "``` julia\n",
        "import Pkg\n",
        "Pkg.activate(@__DIR__)\n",
        "Pkg.instantiate()\n",
        "```\n",
        "\n",
        "``` julia\n",
        "using JuMP\n",
        "using HiGHS\n",
        "using DataFrames\n",
        "using Plots\n",
        "using Measures\n",
        "using MarkdownTables\n",
        "```\n",
        "\n",
        "    LoadError: ArgumentError: Package DataFrames not found in current path.\n",
        "    - Run `import Pkg; Pkg.add(\"DataFrames\")` to install the DataFrames package."
      ],
      "id": "47938c68-19a9-4a68-9624-1f93e61c1472"
    },
    {
      "cell_type": "markdown",
      "metadata": {},
      "source": [
        "## Background\n",
        "\n",
        "Three cities are developing a coordinated municipal solid waste (MSW)\n",
        "disposal plan. Three disposal alternatives are being considered: a\n",
        "landfills (LF), a materials recycling facility (MRF), and a\n",
        "waste-to-energy facility (WTE). The capacities of these facilities and\n",
        "the fees for operation and disposal are provided in the table below.\n",
        "\n",
        "|  **Disposal Facility**   | **Capacity** (Mg/d) | **Fixed cost** (\\$/d) | **Tipping Fee ** (\\$/Mg) | **Recycling Cost** (\\$/Mg) |\n",
        "|:-------------:|:-------------:|:-------------:|:----------:|:--------------:|\n",
        "|         Landfill         |         200         |         2000          |            50            |                            |\n",
        "|    Recycling Facility    |         350         |         1500          |            7             |    40 (per Mg recycled)    |\n",
        "| Waste-to-Energy Facility |         210         |         2500          |            60            |                            |\n",
        "\n",
        "Transportation costs are \\$1.5/Mg-km, and the relative distances between\n",
        "the cities and facilities are provided in the table below.\n",
        "\n",
        "| **City/Facility** | **MRF (km)** | **Landfill (km)** | **WTE (km)** |\n",
        "|:-----------------:|:------------:|:-----------------:|:------------:|\n",
        "|         1         |      5       |        30         |      15      |\n",
        "|         2         |      15      |        25         |      10      |\n",
        "|         3         |      13      |        45         |      20      |\n",
        "|        MRF        |      \\-      |        32         |      15      |\n",
        "|        LF         |      32      |        \\-         |      18      |\n",
        "|        WTE        |      15      |        18         |      \\-      |\n",
        "\n",
        "The fixed costs associated with the disposal options are incurred only\n",
        "if the particular disposal option is implemented. The three cities\n",
        "produce 100, 90, and 120 Mg/day of solid waste, respectively, with the\n",
        "composition provided in the table below.\n",
        "\n",
        "|   **Component**   | **% of total mass** | **Combustion ash** (%) | **MRF Recycling rate** (%) |\n",
        "|:---------------------:|:--------------:|:---------------:|:---------------:|\n",
        "|    Food Wastes    |         15          |           8            |             0              |\n",
        "| Paper & Cardboard |         40          |           7            |             55             |\n",
        "|     Plastics      |          5          |           5            |             15             |\n",
        "|     Textiles      |          3          |           10           |             10             |\n",
        "|  Rubber, Leather  |          2          |           15           |             0              |\n",
        "|       Wood        |          5          |           2            |             30             |\n",
        "|    Yard Wastes    |         18          |           2            |             40             |\n",
        "|       Glass       |          4          |          100           |             60             |\n",
        "|      Ferrous      |          2          |          100           |             75             |\n",
        "|     Aluminum      |          2          |          100           |             80             |\n",
        "|    Other Metal    |          1          |          100           |             50             |\n",
        "|   Miscellaneous   |          3          |           70           |             0              |\n",
        "\n",
        "The information in the above table will help you determine the overall\n",
        "recycling and ash fractions. Note that the recycling residuals, which\n",
        "may be sent to either landfill or the WTE, have different ash content\n",
        "than the ash content of the original MSW. You will need to determine\n",
        "these fractions to construct your mass balance constraints.\n",
        "\n",
        "**Reminder**: Use `round(x; digits=n)` to report values to the\n",
        "appropriate precision!"
      ],
      "id": "c5f4be8a-4d04-4ebe-bf8b-c6422e0dc0b7"
    },
    {
      "cell_type": "markdown",
      "metadata": {},
      "source": [
        "## Problems (Total: 40 Points)"
      ],
      "id": "8c035f42-0e27-43d6-95d8-adb31bb72b85"
    },
    {
      "cell_type": "markdown",
      "metadata": {},
      "source": [
        "### Problem 1 (25 points)\n",
        "\n",
        "In this problem, you will develop an optimal disposal plan for the two\n",
        "cities."
      ],
      "id": "6e9a5a14-5cc2-477d-bf9b-a19310bd4de8"
    },
    {
      "cell_type": "markdown",
      "metadata": {},
      "source": [
        "#### Problem 1.1\n",
        "\n",
        "Based on the information above, calculate the overall recycling and ash\n",
        "fractions for the waste produced by each city."
      ],
      "id": "04540f44-38a4-46fe-b6ed-7f0feb7be08b"
    },
    {
      "cell_type": "markdown",
      "metadata": {},
      "source": [
        "#### Problem 1.2\n",
        "\n",
        "What are the decision variables for your optimization problem? Provide\n",
        "notation and variable meaning."
      ],
      "id": "5638ef3d-6247-43f8-8e6f-5a1f989d879d"
    },
    {
      "cell_type": "markdown",
      "metadata": {},
      "source": [
        "#### Problem 1.3\n",
        "\n",
        "Formulate the objective function. Make sure to include any needed\n",
        "derivations or justifications for your equation(s)."
      ],
      "id": "13234936-0197-4f69-8a82-51790d78f541"
    },
    {
      "cell_type": "markdown",
      "metadata": {},
      "source": [
        "#### Problem 1.4\n",
        "\n",
        "Derive all relevant constraints. Make sure to include any needed\n",
        "justifications or derivations."
      ],
      "id": "6297443e-0766-4910-8443-b6083360dfcc"
    },
    {
      "cell_type": "markdown",
      "metadata": {},
      "source": [
        "#### Problem 1.5\n",
        "\n",
        "Implement your optimization problem in `JuMP`."
      ],
      "id": "091f6a7a-6643-4a40-b3f7-104c3527c2e9"
    },
    {
      "cell_type": "markdown",
      "metadata": {},
      "source": [
        "#### Problem 1.6\n",
        "\n",
        "Find the optimal solution. Report the optimal objective value."
      ],
      "id": "39eadb5e-4616-4789-b8d3-aae72ffe7aa6"
    },
    {
      "cell_type": "markdown",
      "metadata": {},
      "source": [
        "#### Problem 1.7\n",
        "\n",
        "Draw a diagram showing the flows of waste between the cities and the\n",
        "facilities. Which facilities (if any) will not be used? Does this\n",
        "solution make sense?"
      ],
      "id": "5835c945-2ad7-4c70-964c-9376fbc43a4d"
    },
    {
      "cell_type": "markdown",
      "metadata": {},
      "source": [
        "### Problem 2\n",
        "\n",
        "It is projected that in the near future the state will introduce a\n",
        "carbon tax that will increase the cost for transportation and for\n",
        "disposal by incineration. It is estimated that the additional costs will\n",
        "be: \\* tipping fee for the WTE facility will increase to\\$75/Mg; and \\*\n",
        "transportation costs will increase to \\$2/Mg-km.\n",
        "\n",
        "In this context, the cities are considering adding another landfill and\n",
        "want to know if this would be cost-effective compared to using the\n",
        "current facilities with the carbon tax. This landfill would have a\n",
        "maximum capacity of 225 Mg/day and would be located with the following\n",
        "distances from the existing sites (excluding LF1):\n",
        "\n",
        "| **City/Facility** | **Distance to LF2 (km)** |\n",
        "|:-----------------:|:------------------------:|\n",
        "|         1         |            45            |\n",
        "|         2         |            35            |\n",
        "|         3         |            15            |\n",
        "|        MRF        |            35            |\n",
        "|        WTE        |            50            |\n",
        "\n",
        "The costs of operating this new facility would be the same as the\n",
        "original landfill."
      ],
      "id": "f60d1228-8029-43e9-96e9-ad4d27914eb5"
    },
    {
      "cell_type": "markdown",
      "metadata": {},
      "source": [
        "#### Problem 2.1\n",
        "\n",
        "What changes are needed to your optimization program from Problem 1 for\n",
        "this decision problem? Formulate any different variables, objectives,\n",
        "and/or constraints."
      ],
      "id": "97c6a021-9a06-4597-afb5-0a21312d85b8"
    },
    {
      "cell_type": "markdown",
      "metadata": {},
      "source": [
        "#### Problem 2.2\n",
        "\n",
        "Implement the new optimization problem in `JuMP`."
      ],
      "id": "34728435-44dd-4b80-b62f-6f8dad4e3ca8"
    },
    {
      "cell_type": "markdown",
      "metadata": {},
      "source": [
        "#### Problem 2.3\n",
        "\n",
        "Find the optimal solution and report the optimal objective value.\n",
        "Provide a diagram showing the new waste flows."
      ],
      "id": "cdde5542-73db-418c-809c-25783387a4eb"
    },
    {
      "cell_type": "markdown",
      "metadata": {},
      "source": [
        "### Problem 2.4\n",
        "\n",
        "Would you recommend that the cities build the new landfill? Why or why\n",
        "not? Your answer should be based on your analysis but can draw on other\n",
        "considerations as appropriate or desired."
      ],
      "id": "8a1a0c5e-493b-4672-9a79-4c27778fd481"
    },
    {
      "cell_type": "markdown",
      "metadata": {},
      "source": [
        "## References\n",
        "\n",
        "List any external references consulted, including classmates."
      ],
      "id": "4691f941-686e-4267-b1c5-ef815c2013ad"
    }
  ],
  "nbformat": 4,
  "nbformat_minor": 5,
  "metadata": {
    "kernelspec": {
      "name": "julia-1.9",
      "display_name": "Julia 1.9.3",
      "language": "julia"
    },
    "language_info": {
      "name": "julia",
      "file_extension": ".jl",
      "mimetype": "application/julia",
      "version": "1.9.3"
    }
  }
}